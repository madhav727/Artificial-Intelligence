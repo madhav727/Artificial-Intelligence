{
 "cells": [
  {
   "cell_type": "code",
   "execution_count": 32,
   "metadata": {},
   "outputs": [
    {
     "data": {
      "text/plain": [
       "['walk', 'tram']"
      ]
     },
     "execution_count": 32,
     "metadata": {},
     "output_type": "execute_result"
    }
   ],
   "source": [
    "class TransportationMDP(object):\n",
    "    def __init__(self, N):\n",
    "        self.N = N\n",
    "    \n",
    "    def startstate(self):\n",
    "        return 1\n",
    "    \n",
    "    def endstate(self, state):\n",
    "        return state == self.N\n",
    "    \n",
    "    def actions(self, state):\n",
    "        result = []\n",
    "        if state + 1 <= self.N:\n",
    "            result.append('walk')\n",
    "        if state * 2 <= self.N:\n",
    "            result.append('tram')\n",
    "        return result\n",
    "    \n",
    "    def succProbReward(self, state, action):\n",
    "        result = []\n",
    "        if action == 'walk':\n",
    "            result.append((state+1, 1., -1.))\n",
    "        elif action == 'tram':\n",
    "            result.append((state*2, 0.5, -2.))\n",
    "            result.append((state, 0.5, -2.))\n",
    "        return result\n",
    "    \n",
    "    def discount(self):\n",
    "        return 1.\n",
    "    \n",
    "    def states(self):\n",
    "        return range(1, self.N+1)\n",
    "    \n",
    "mdp = TransportationMDP(N=10)\n",
    "mdp.actions(5)\n",
    "# mdp.succProbReward(3, 'tram')"
   ]
  },
  {
   "cell_type": "code",
   "execution_count": 43,
   "metadata": {},
   "outputs": [
    {
     "data": {
      "text/plain": [
       "[('walk', 6, 1), ('tram', 10, 2)]"
      ]
     },
     "execution_count": 43,
     "metadata": {},
     "output_type": "execute_result"
    }
   ],
   "source": [
    "class TransportationProblem(object):\n",
    "    def __init__(self, N):\n",
    "        self.N = N\n",
    "    \n",
    "    def startstate(self):\n",
    "        return 1\n",
    "    \n",
    "    def isend(self, state):\n",
    "        return state == self.N\n",
    "    \n",
    "    def sucAndCost(self, state):\n",
    "        result = []\n",
    "        if state+1 <= self.N:\n",
    "            result.append(('walk', state+1, 1))\n",
    "        if state*2 <= self.N:\n",
    "            result.append(('tram', state*2, 2))\n",
    "        return result\n",
    "\n",
    "problem = TransportationProblem(N=10)\n",
    "problem.sucAndCost(5)"
   ]
  },
  {
   "cell_type": "code",
   "execution_count": 44,
   "metadata": {},
   "outputs": [
    {
     "name": "stdout",
     "output_type": "stream",
     "text": [
      "totalcost : 6\n",
      "('walk', 2, 1)\n",
      "('walk', 3, 1)\n",
      "('walk', 4, 1)\n",
      "('walk', 5, 1)\n",
      "('tram', 10, 2)\n"
     ]
    }
   ],
   "source": [
    "def printSolution(solution):\n",
    "    totalcost, history = solution\n",
    "    print('totalcost : {}'.format(totalcost))\n",
    "    for items in history:\n",
    "        print(items)\n",
    "\n",
    "def backtrackingSearch(Problem):\n",
    "    best = {'cost' : float('+inf'),\n",
    "           'history' : None}\n",
    "    \n",
    "    def recurse(state, history, totalcost):\n",
    "        if problem.isend(state):\n",
    "            if totalcost < best['cost']:\n",
    "                best['cost'] = totalcost\n",
    "                best['history'] = history\n",
    "            return\n",
    "        for action, newstate, cost in problem.sucAndCost(state):\n",
    "            recurse(newstate, history+[(action, newstate, cost)], totalcost+cost)\n",
    "    recurse(problem.startstate(), history=[], totalcost=0)\n",
    "    return (best['cost'], best['history'])\n",
    "\n",
    "printSolution(backtrackingSearch(problem))            "
   ]
  },
  {
   "cell_type": "code",
   "execution_count": null,
   "metadata": {},
   "outputs": [],
   "source": []
  }
 ],
 "metadata": {
  "kernelspec": {
   "display_name": "Python 3",
   "language": "python",
   "name": "python3"
  },
  "language_info": {
   "codemirror_mode": {
    "name": "ipython",
    "version": 3
   },
   "file_extension": ".py",
   "mimetype": "text/x-python",
   "name": "python",
   "nbconvert_exporter": "python",
   "pygments_lexer": "ipython3",
   "version": "3.7.4"
  }
 },
 "nbformat": 4,
 "nbformat_minor": 2
}
